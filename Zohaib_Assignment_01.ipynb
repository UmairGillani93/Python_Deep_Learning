{
 "cells": [
  {
   "cell_type": "code",
   "execution_count": 2,
   "metadata": {},
   "outputs": [
    {
     "name": "stdout",
     "output_type": "stream",
     "text": [
      "t : 2\n",
      "h : 2\n",
      "e : 3\n",
      "u : 2\n",
      "r : 2\n",
      "o : 4\n"
     ]
    }
   ],
   "source": [
    "#1. Write a Python program to count repeated characters in a string.\n",
    "#Sample string: 'thequickbrownfoxjumpsoverthelazydog'\n",
    "\n",
    "name = 'thequickbrownfoxjumpsoverthelazydog'\n",
    "var = \"\"\n",
    "i=0\n",
    "while i < len(name):\n",
    "    if name[i] not in var:\n",
    "        var += name[i]\n",
    "        if name.count(name[i]) > 1:\n",
    "            print(f\"{name[i]} : {name.count(name[i])}\")\n",
    "    i += 1\n",
    "\n",
    "# Marks 1 / 1"
   ]
  },
  {
   "cell_type": "code",
   "execution_count": 3,
   "metadata": {},
   "outputs": [
    {
     "name": "stdout",
     "output_type": "stream",
     "text": [
      "w is on the position of 0 index\n",
      "3 is on the position of 1 index\n",
      "r is on the position of 2 index\n",
      "e is on the position of 3 index\n",
      "s is on the position of 4 index\n",
      "o is on the position of 5 index\n",
      "u is on the position of 6 index\n",
      "r is on the position of 7 index\n",
      "c is on the position of 8 index\n",
      "e is on the position of 9 index\n"
     ]
    }
   ],
   "source": [
    "#2. Write a Python program to print the index of the character in a string.\n",
    "# Sample string: w3resource\n",
    "string = \"w3resource\"\n",
    "for i in range(len(string)):\n",
    "    print(f\"{string[i]} is on the position of {i} index\")\n",
    "    \n",
    "# 0.75 / 1"
   ]
  },
  {
   "cell_type": "code",
   "execution_count": 5,
   "metadata": {},
   "outputs": [
    {
     "name": "stdout",
     "output_type": "stream",
     "text": [
      "['Green', 'White', 'Black']\n"
     ]
    }
   ],
   "source": [
    "#3. Write a Python program to print a specified list after removing the 0th, 4th and 5th elements.\n",
    "#Sample List : ['Red', 'Green', 'White', 'Black', 'Pink', 'Yellow']\n",
    "\n",
    "list = ['Red', 'Green', 'White', 'Black', 'Pink', 'Yellow']\n",
    "i=0\n",
    "while i < len(list):\n",
    "    if i ==0 or i==3 :\n",
    "        list.pop(i)\n",
    "    i += 1\n",
    "list.pop()\n",
    "print(list)\n",
    "\n",
    "# 1 / 1"
   ]
  },
  {
   "cell_type": "code",
   "execution_count": 6,
   "metadata": {},
   "outputs": [
    {
     "name": "stdout",
     "output_type": "stream",
     "text": [
      "enter number2\n",
      "['p0', 'q0', 'p1', 'q1', 'p2', 'q2']\n"
     ]
    }
   ],
   "source": [
    "#4. Write a Python program to create a list by concatenating a given list which range goes from 1 to n.\n",
    "#Sample list : ['p', 'q']\n",
    "\n",
    "list1 = ['p','q']\n",
    "var2 = list1.pop()\n",
    "var = list1.pop()\n",
    "list = []\n",
    "n = int(input(\"enter number\"))\n",
    "for i in range(n+1):\n",
    "    list.append(var + str(i))\n",
    "    list.append(var2 + str(i))\n",
    "print(list)\n",
    "\n",
    "# 0.75 / 1"
   ]
  },
  {
   "cell_type": "code",
   "execution_count": 7,
   "metadata": {},
   "outputs": [
    {
     "name": "stdout",
     "output_type": "stream",
     "text": [
      "45.5\n"
     ]
    }
   ],
   "source": [
    "d = {'item1': 45.50, 'item2':35, 'item3': 41.30, 'item4':55, 'item5': 24} \n",
    "print(d['item1'])\n",
    "# d= sorted(d.values())\n",
    "# for i in d:\n",
    "\n",
    "# 0.25 / 1"
   ]
  },
  {
   "cell_type": "code",
   "execution_count": 8,
   "metadata": {},
   "outputs": [
    {
     "name": "stdout",
     "output_type": "stream",
     "text": [
      "[1, 3, 4, 5]\n"
     ]
    }
   ],
   "source": [
    "#13. Write a Python program to convert an array to an ordinary list with the same items.\n",
    "import array\n",
    "arry_1 = array.array('i', [1,3,4,5])\n",
    "list = arry_1.tolist()\n",
    "print(list)\n",
    "\n",
    "# 0.75 / 1"
   ]
  },
  {
   "cell_type": "code",
   "execution_count": 9,
   "metadata": {},
   "outputs": [
    {
     "name": "stdout",
     "output_type": "stream",
     "text": [
      "{1, 2, 3, 4, 5}\n"
     ]
    }
   ],
   "source": [
    "#Write a Python program to create a shallow copy of sets.\n",
    "#A shallow copy creates a new object which stores the reference of the original elements.\n",
    "import copy\n",
    "a = {1,2,3,4,5}\n",
    "b = a.copy()\n",
    "print(b)\n",
    "\n",
    "# 1 / 1"
   ]
  },
  {
   "cell_type": "code",
   "execution_count": 10,
   "metadata": {},
   "outputs": [
    {
     "name": "stdout",
     "output_type": "stream",
     "text": [
      "{1: 2, 2: 3, 4: 5, 5: 6}\n"
     ]
    }
   ],
   "source": [
    "#10. Write a Python program to convert a list of tuples into a dictionary.\n",
    "\n",
    "a = [(1,2),(2,3),(4,5),(5,6)]\n",
    "dic = {}\n",
    "for i in a:\n",
    "    m,n = i\n",
    "    dic[m] = n\n",
    "print(dic)\n",
    "\n",
    "# 0.75 / 1"
   ]
  },
  {
   "cell_type": "code",
   "execution_count": 12,
   "metadata": {},
   "outputs": [
    {
     "name": "stdout",
     "output_type": "stream",
     "text": [
      "current memory address and the length in elements of the buffer used to hold an array is (140293569914416, 5)\n"
     ]
    }
   ],
   "source": [
    "#12. Write a Python program to get the current memory address and the length in elements of the buffer used to hold an \n",
    "#array?s contents and also find the size of the memory buffer in bytes.\n",
    "\n",
    "import array\n",
    "a = array.array(\"i\",[1,2,3,4,5])\n",
    "print(f\"current memory address and the length in elements of the buffer used to hold an array is {a.buffer_info()}\")\n",
    "\n",
    "\n",
    "# 0.75 / 1"
   ]
  },
  {
   "cell_type": "code",
   "execution_count": 13,
   "metadata": {},
   "outputs": [
    {
     "name": "stdout",
     "output_type": "stream",
     "text": [
      "[(10, 20, 100), (40, 50, 100), (70, 80, 100)]\n"
     ]
    }
   ],
   "source": [
    "#9. Write a Python program to replace last value of tuples in a list. Go to the editor\n",
    "#Sample list: [(10, 20, 40), (40, 50, 60), (70, 80, 90)]\n",
    "#Expected Output: [(10, 20, 100), (40, 50, 100), (70, 80, 100)]\n",
    "\n",
    "l = [(10, 20, 40), (40, 50, 60), (70, 80, 90)]\n",
    "m =[]\n",
    "for i in l:\n",
    "    l= i[:-1] + (100,)\n",
    "    m.append(l)\n",
    "print(m)\n",
    "\n",
    "# 1 / 1"
   ]
  },
  {
   "cell_type": "code",
   "execution_count": 14,
   "metadata": {},
   "outputs": [
    {
     "name": "stdout",
     "output_type": "stream",
     "text": [
      "key1\n",
      "key2\n"
     ]
    }
   ],
   "source": [
    "#8. Write a Python program to match key values in two dictionaries.\n",
    "#Sample dictionary: {'key1': 1, 'key2': 3, 'key3': 2}, {'key1': 1, 'key2': 2}\n",
    "\n",
    "dic1={'key1': 1, 'key2': 3, 'key3': 2}\n",
    "dic2={'key1': 1, 'key2': 2}\n",
    "for i in dic1:\n",
    "    for j in dic2:\n",
    "        if i == j:\n",
    "            print(i)\n",
    "            \n",
    "# 0.25 / 1"
   ]
  },
  {
   "cell_type": "code",
   "execution_count": 19,
   "metadata": {},
   "outputs": [
    {
     "name": "stdout",
     "output_type": "stream",
     "text": [
      "Question: 1 : Marks Obt. 1\n",
      "Question: 2 : Marks Obt. 0.75\n",
      "Question: 3 : Marks Obt. 1\n",
      "Question: 4 : Marks Obt. 0.75\n",
      "Question: 5 : Marks Obt. 0.25\n",
      "Question: 6 : Marks Obt. 0.75\n",
      "Question: 7 : Marks Obt. 1\n",
      "Question: 8 : Marks Obt. 0.75\n",
      "Question: 9 : Marks Obt. 0.75\n",
      "Question: 10 : Marks Obt. 1\n",
      "Question: 11 : Marks Obt. 0.25\n",
      "Question: 12 : Marks Obt. 0\n",
      "Question: 13 : Marks Obt. 0\n",
      "\n",
      "\n",
      "Marks Obtained = 8.25 : Total Marks = 13\n",
      "\n",
      "\n",
      "Total Weightage / 10 = 6.346\n"
     ]
    }
   ],
   "source": [
    "# Marks List:\n",
    "\n",
    "marks_list = [1, 0.75, 1, 0.75, 0.25, 0.75, 1, 0.75, 0.75, 1, 0.25, 0, 0]\n",
    "count = 1\n",
    "for num in marks_list:\n",
    "    print(f\"Question: {count} : Marks Obt. {num}\")\n",
    "    count += 1\n",
    "    \n",
    "# Total Marks Obtained:\n",
    "\n",
    "marks_obt= sum(marks_list)\n",
    "total_marks = 13\n",
    "\n",
    "print('\\n')\n",
    "print(f\"Marks Obtained = {marks_obt} : Total Marks = {total_marks}\")\n",
    "\n",
    "# Weightage out of 10:\n",
    "\n",
    "Weightage = (marks_obt / total_marks) *10\n",
    "print('\\n')\n",
    "print('Total Weightage / 10 = {0:.3f}'.format(Weightage))"
   ]
  },
  {
   "cell_type": "code",
   "execution_count": null,
   "metadata": {},
   "outputs": [],
   "source": []
  }
 ],
 "metadata": {
  "kernelspec": {
   "display_name": "Python 3",
   "language": "python",
   "name": "python3"
  },
  "language_info": {
   "codemirror_mode": {
    "name": "ipython",
    "version": 3
   },
   "file_extension": ".py",
   "mimetype": "text/x-python",
   "name": "python",
   "nbconvert_exporter": "python",
   "pygments_lexer": "ipython3",
   "version": "3.7.3"
  }
 },
 "nbformat": 4,
 "nbformat_minor": 2
}
