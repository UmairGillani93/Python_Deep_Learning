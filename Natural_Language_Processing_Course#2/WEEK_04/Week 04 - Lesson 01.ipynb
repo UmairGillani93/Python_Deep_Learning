{
 "cells": [
  {
   "cell_type": "code",
   "execution_count": 1,
   "metadata": {},
   "outputs": [
    {
     "name": "stderr",
     "output_type": "stream",
     "text": [
      "/home/umair/anaconda3/lib/python3.7/site-packages/tensorflow/python/framework/dtypes.py:516: FutureWarning: Passing (type, 1) or '1type' as a synonym of type is deprecated; in a future version of numpy, it will be understood as (type, (1,)) / '(1,)type'.\n",
      "  _np_qint8 = np.dtype([(\"qint8\", np.int8, 1)])\n",
      "/home/umair/anaconda3/lib/python3.7/site-packages/tensorflow/python/framework/dtypes.py:517: FutureWarning: Passing (type, 1) or '1type' as a synonym of type is deprecated; in a future version of numpy, it will be understood as (type, (1,)) / '(1,)type'.\n",
      "  _np_quint8 = np.dtype([(\"quint8\", np.uint8, 1)])\n",
      "/home/umair/anaconda3/lib/python3.7/site-packages/tensorflow/python/framework/dtypes.py:518: FutureWarning: Passing (type, 1) or '1type' as a synonym of type is deprecated; in a future version of numpy, it will be understood as (type, (1,)) / '(1,)type'.\n",
      "  _np_qint16 = np.dtype([(\"qint16\", np.int16, 1)])\n",
      "/home/umair/anaconda3/lib/python3.7/site-packages/tensorflow/python/framework/dtypes.py:519: FutureWarning: Passing (type, 1) or '1type' as a synonym of type is deprecated; in a future version of numpy, it will be understood as (type, (1,)) / '(1,)type'.\n",
      "  _np_quint16 = np.dtype([(\"quint16\", np.uint16, 1)])\n",
      "/home/umair/anaconda3/lib/python3.7/site-packages/tensorflow/python/framework/dtypes.py:520: FutureWarning: Passing (type, 1) or '1type' as a synonym of type is deprecated; in a future version of numpy, it will be understood as (type, (1,)) / '(1,)type'.\n",
      "  _np_qint32 = np.dtype([(\"qint32\", np.int32, 1)])\n",
      "/home/umair/anaconda3/lib/python3.7/site-packages/tensorflow/python/framework/dtypes.py:525: FutureWarning: Passing (type, 1) or '1type' as a synonym of type is deprecated; in a future version of numpy, it will be understood as (type, (1,)) / '(1,)type'.\n",
      "  np_resource = np.dtype([(\"resource\", np.ubyte, 1)])\n",
      "/home/umair/anaconda3/lib/python3.7/site-packages/tensorboard/compat/tensorflow_stub/dtypes.py:541: FutureWarning: Passing (type, 1) or '1type' as a synonym of type is deprecated; in a future version of numpy, it will be understood as (type, (1,)) / '(1,)type'.\n",
      "  _np_qint8 = np.dtype([(\"qint8\", np.int8, 1)])\n",
      "/home/umair/anaconda3/lib/python3.7/site-packages/tensorboard/compat/tensorflow_stub/dtypes.py:542: FutureWarning: Passing (type, 1) or '1type' as a synonym of type is deprecated; in a future version of numpy, it will be understood as (type, (1,)) / '(1,)type'.\n",
      "  _np_quint8 = np.dtype([(\"quint8\", np.uint8, 1)])\n",
      "/home/umair/anaconda3/lib/python3.7/site-packages/tensorboard/compat/tensorflow_stub/dtypes.py:543: FutureWarning: Passing (type, 1) or '1type' as a synonym of type is deprecated; in a future version of numpy, it will be understood as (type, (1,)) / '(1,)type'.\n",
      "  _np_qint16 = np.dtype([(\"qint16\", np.int16, 1)])\n",
      "/home/umair/anaconda3/lib/python3.7/site-packages/tensorboard/compat/tensorflow_stub/dtypes.py:544: FutureWarning: Passing (type, 1) or '1type' as a synonym of type is deprecated; in a future version of numpy, it will be understood as (type, (1,)) / '(1,)type'.\n",
      "  _np_quint16 = np.dtype([(\"quint16\", np.uint16, 1)])\n",
      "/home/umair/anaconda3/lib/python3.7/site-packages/tensorboard/compat/tensorflow_stub/dtypes.py:545: FutureWarning: Passing (type, 1) or '1type' as a synonym of type is deprecated; in a future version of numpy, it will be understood as (type, (1,)) / '(1,)type'.\n",
      "  _np_qint32 = np.dtype([(\"qint32\", np.int32, 1)])\n",
      "/home/umair/anaconda3/lib/python3.7/site-packages/tensorboard/compat/tensorflow_stub/dtypes.py:550: FutureWarning: Passing (type, 1) or '1type' as a synonym of type is deprecated; in a future version of numpy, it will be understood as (type, (1,)) / '(1,)type'.\n",
      "  np_resource = np.dtype([(\"resource\", np.ubyte, 1)])\n"
     ]
    }
   ],
   "source": [
    "import tensorflow as tf \n",
    "import numpy as np \n",
    "\n",
    "from tensorflow.keras.preprocessing.text import Tokenizer \n",
    "from tensorflow.keras.preprocessing.sequence import pad_sequences \n",
    "from tensorflow.keras.layers import Dense, Embedding, Bidirectional, LSTM\n",
    "from tensorflow.keras.models import Sequential \n",
    "from tensorflow.keras.optimizers import Adam \n",
    "\n",
    "import warnings \n",
    "warnings.filterwarnings('ignore')"
   ]
  },
  {
   "cell_type": "code",
   "execution_count": 2,
   "metadata": {},
   "outputs": [
    {
     "name": "stdout",
     "output_type": "stream",
     "text": [
      "Word Index:  {'in': 1, 'the': 2, 'town': 3, 'of': 4, 'athy': 5, 'one': 6, 'jeremy': 7, 'lanigan': 8, 'battered': 9, 'away': 10, 'till': 11, 'he': 12, 'hadnt': 13, 'had': 14, 'a': 15, 'pond': 16, 'his': 17, 'father': 18, 'died': 19, 'and': 20, 'made': 21, 'him': 22, 'rich': 23}\n",
      "\n",
      "Total unique words:  24\n"
     ]
    }
   ],
   "source": [
    "tokenizer = Tokenizer() \n",
    "\n",
    "data = 'In the town of Athy one Jeremy lanigan \\nBattered away till he hadnt had a pond. \\nHis father died and made him rich'\n",
    "\n",
    "corpus = data.lower().split('\\n')\n",
    "tokenizer.fit_on_texts(corpus)\n",
    "word_index = tokenizer.word_index\n",
    "total_words = len(tokenizer.word_index) + 1\n",
    "print(\"Word Index: \", word_index)\n",
    "print(\"\\nTotal unique words: \", total_words)"
   ]
  },
  {
   "cell_type": "code",
   "execution_count": 3,
   "metadata": {},
   "outputs": [
    {
     "data": {
      "text/plain": [
       "['in the town of athy one jeremy lanigan ',\n",
       " 'battered away till he hadnt had a pond. ',\n",
       " 'his father died and made him rich']"
      ]
     },
     "execution_count": 3,
     "metadata": {},
     "output_type": "execute_result"
    }
   ],
   "source": [
    "corpus"
   ]
  },
  {
   "cell_type": "code",
   "execution_count": 4,
   "metadata": {},
   "outputs": [
    {
     "name": "stdout",
     "output_type": "stream",
     "text": [
      "[[1, 2], [1, 2, 3], [1, 2, 3, 4], [1, 2, 3, 4, 5], [1, 2, 3, 4, 5, 6], [1, 2, 3, 4, 5, 6, 7], [1, 2, 3, 4, 5, 6, 7, 8], [9, 10], [9, 10, 11], [9, 10, 11, 12], [9, 10, 11, 12, 13], [9, 10, 11, 12, 13, 14], [9, 10, 11, 12, 13, 14, 15], [9, 10, 11, 12, 13, 14, 15, 16], [17, 18], [17, 18, 19], [17, 18, 19, 20], [17, 18, 19, 20, 21], [17, 18, 19, 20, 21, 22], [17, 18, 19, 20, 21, 22, 23]]\n",
      "\n",
      "Max sequence length:  20\n"
     ]
    }
   ],
   "source": [
    "input_sequence = []\n",
    "\n",
    "for line in corpus:\n",
    "    token_list = tokenizer.texts_to_sequences([line])[0] # creates to word index for each word in a sentence\n",
    "    for i in range(1, len(token_list)): \n",
    "        n_gram_sequence = token_list[:i+1] # creates n_grams sequence \n",
    "        input_sequence.append(n_gram_sequence)\n",
    "        \n",
    "print(input_sequence)\n",
    "\n",
    "# pad the sequences \n",
    "max_sequence_len = len([max(x) for x in input_sequence])\n",
    "input_sequences = np.array(pad_sequences(input_sequence, maxlen = max_sequence_len, padding = 'pre'))\n",
    "\n",
    "# print(max_sequence_len)\n",
    "print('\\nMax sequence length: ', max_sequence_len)\n",
    "\n",
    "# create predictors and labels\n",
    "xs, labels = input_sequences[:,:-1], input_sequences[:,-1]\n",
    "ys = tf.keras.utils.to_categorical(labels, num_classes = total_words) # categorizing the labels for the total number of words!"
   ]
  },
  {
   "cell_type": "code",
   "execution_count": 5,
   "metadata": {},
   "outputs": [
    {
     "name": "stdout",
     "output_type": "stream",
     "text": [
      "1\n",
      "2\n",
      "3\n",
      "4\n",
      "5\n",
      "6\n",
      "7\n"
     ]
    }
   ],
   "source": [
    "# word indices for each token\n",
    "print(tokenizer.word_index['in'])\n",
    "print(tokenizer.word_index['the'])\n",
    "print(tokenizer.word_index['town'])\n",
    "print(tokenizer.word_index['of'])\n",
    "print(tokenizer.word_index['athy'])\n",
    "print(tokenizer.word_index['one'])\n",
    "print(tokenizer.word_index['jeremy'])"
   ]
  },
  {
   "cell_type": "code",
   "execution_count": 6,
   "metadata": {},
   "outputs": [
    {
     "name": "stdout",
     "output_type": "stream",
     "text": [
      "{'in': 1, 'the': 2, 'town': 3, 'of': 4, 'athy': 5, 'one': 6, 'jeremy': 7, 'lanigan': 8, 'battered': 9, 'away': 10, 'till': 11, 'he': 12, 'hadnt': 13, 'had': 14, 'a': 15, 'pond': 16, 'his': 17, 'father': 18, 'died': 19, 'and': 20, 'made': 21, 'him': 22, 'rich': 23}\n"
     ]
    }
   ],
   "source": [
    "print(tokenizer.word_index)"
   ]
  },
  {
   "cell_type": "code",
   "execution_count": 16,
   "metadata": {},
   "outputs": [
    {
     "name": "stdout",
     "output_type": "stream",
     "text": [
      "WARNING:tensorflow:Entity <function standard_lstm at 0x7f692b9f6cb0> could not be transformed and will be executed as-is. Please report this to the AutoGraph team. When filing the bug, set the verbosity to 10 (on Linux, `export AUTOGRAPH_VERBOSITY=10`) and attach the full output. Cause: converting <function standard_lstm at 0x7f692b9f6cb0>: AttributeError: module 'gast' has no attribute 'Num'\n",
      "WARNING: Entity <function standard_lstm at 0x7f692b9f6cb0> could not be transformed and will be executed as-is. Please report this to the AutoGraph team. When filing the bug, set the verbosity to 10 (on Linux, `export AUTOGRAPH_VERBOSITY=10`) and attach the full output. Cause: converting <function standard_lstm at 0x7f692b9f6cb0>: AttributeError: module 'gast' has no attribute 'Num'\n",
      "WARNING:tensorflow:Entity <function cudnn_lstm at 0x7f692b9f6d40> could not be transformed and will be executed as-is. Please report this to the AutoGraph team. When filing the bug, set the verbosity to 10 (on Linux, `export AUTOGRAPH_VERBOSITY=10`) and attach the full output. Cause: converting <function cudnn_lstm at 0x7f692b9f6d40>: AttributeError: module 'gast' has no attribute 'Num'\n",
      "WARNING: Entity <function cudnn_lstm at 0x7f692b9f6d40> could not be transformed and will be executed as-is. Please report this to the AutoGraph team. When filing the bug, set the verbosity to 10 (on Linux, `export AUTOGRAPH_VERBOSITY=10`) and attach the full output. Cause: converting <function cudnn_lstm at 0x7f692b9f6d40>: AttributeError: module 'gast' has no attribute 'Num'\n",
      "WARNING:tensorflow:Entity <function standard_lstm at 0x7f692b9f6cb0> could not be transformed and will be executed as-is. Please report this to the AutoGraph team. When filing the bug, set the verbosity to 10 (on Linux, `export AUTOGRAPH_VERBOSITY=10`) and attach the full output. Cause: converting <function standard_lstm at 0x7f692b9f6cb0>: AttributeError: module 'gast' has no attribute 'Num'\n",
      "WARNING: Entity <function standard_lstm at 0x7f692b9f6cb0> could not be transformed and will be executed as-is. Please report this to the AutoGraph team. When filing the bug, set the verbosity to 10 (on Linux, `export AUTOGRAPH_VERBOSITY=10`) and attach the full output. Cause: converting <function standard_lstm at 0x7f692b9f6cb0>: AttributeError: module 'gast' has no attribute 'Num'\n",
      "WARNING:tensorflow:Entity <function cudnn_lstm at 0x7f692b9f6d40> could not be transformed and will be executed as-is. Please report this to the AutoGraph team. When filing the bug, set the verbosity to 10 (on Linux, `export AUTOGRAPH_VERBOSITY=10`) and attach the full output. Cause: converting <function cudnn_lstm at 0x7f692b9f6d40>: AttributeError: module 'gast' has no attribute 'Num'\n",
      "WARNING: Entity <function cudnn_lstm at 0x7f692b9f6d40> could not be transformed and will be executed as-is. Please report this to the AutoGraph team. When filing the bug, set the verbosity to 10 (on Linux, `export AUTOGRAPH_VERBOSITY=10`) and attach the full output. Cause: converting <function cudnn_lstm at 0x7f692b9f6d40>: AttributeError: module 'gast' has no attribute 'Num'\n",
      "Model: \"sequential_2\"\n",
      "_________________________________________________________________\n",
      "Layer (type)                 Output Shape              Param #   \n",
      "=================================================================\n",
      "embedding_2 (Embedding)      (None, 19, 64)            1536      \n",
      "_________________________________________________________________\n",
      "bidirectional_1 (Bidirection (None, 40)                13600     \n",
      "_________________________________________________________________\n",
      "dense (Dense)                (None, 24)                984       \n",
      "=================================================================\n",
      "Total params: 16,120\n",
      "Trainable params: 16,120\n",
      "Non-trainable params: 0\n",
      "_________________________________________________________________\n"
     ]
    }
   ],
   "source": [
    "# EMB_DIM = total_words\n",
    "num_epochs = 50\n",
    "\n",
    "model = Sequential([\n",
    "    tf.keras.layers.Embedding(total_words, 64, input_length = (max_sequence_len-1))\n",
    "])\n",
    "model.add(Bidirectional(LSTM(20)))\n",
    "model.add(Dense(total_words, activation = 'softmax'))\n",
    "\n",
    "model.summary()"
   ]
  },
  {
   "cell_type": "code",
   "execution_count": 31,
   "metadata": {},
   "outputs": [
    {
     "name": "stdout",
     "output_type": "stream",
     "text": [
      "Train on 20 samples\n",
      "Epoch 1/150\n",
      "20/20 [==============================] - 1s 39ms/sample - loss: 0.0447 - accuracy: 1.0000\n",
      "Epoch 2/150\n",
      "20/20 [==============================] - 0s 1ms/sample - loss: 0.0440 - accuracy: 1.0000\n",
      "Epoch 3/150\n",
      "20/20 [==============================] - 0s 1ms/sample - loss: 0.1066 - accuracy: 1.0000\n",
      "Epoch 4/150\n",
      "20/20 [==============================] - 0s 1ms/sample - loss: 0.0428 - accuracy: 1.0000\n",
      "Epoch 5/150\n",
      "20/20 [==============================] - 0s 844us/sample - loss: 0.1375 - accuracy: 0.9500\n",
      "Epoch 6/150\n",
      "20/20 [==============================] - 0s 1ms/sample - loss: 0.0733 - accuracy: 1.0000\n",
      "Epoch 7/150\n",
      "20/20 [==============================] - 0s 883us/sample - loss: 0.0571 - accuracy: 1.0000\n",
      "Epoch 8/150\n",
      "20/20 [==============================] - 0s 842us/sample - loss: 0.0589 - accuracy: 1.0000\n",
      "Epoch 9/150\n",
      "20/20 [==============================] - 0s 836us/sample - loss: 0.0656 - accuracy: 1.0000\n",
      "Epoch 10/150\n",
      "20/20 [==============================] - 0s 1ms/sample - loss: 0.0826 - accuracy: 1.0000\n",
      "Epoch 11/150\n",
      "20/20 [==============================] - 0s 973us/sample - loss: 0.0622 - accuracy: 1.0000\n",
      "Epoch 12/150\n",
      "20/20 [==============================] - 0s 1ms/sample - loss: 0.0527 - accuracy: 1.0000\n",
      "Epoch 13/150\n",
      "20/20 [==============================] - 0s 953us/sample - loss: 0.0524 - accuracy: 1.0000\n",
      "Epoch 14/150\n",
      "20/20 [==============================] - 0s 1ms/sample - loss: 0.0526 - accuracy: 1.0000\n",
      "Epoch 15/150\n",
      "20/20 [==============================] - 0s 1ms/sample - loss: 0.0512 - accuracy: 1.0000\n",
      "Epoch 16/150\n",
      "20/20 [==============================] - 0s 2ms/sample - loss: 0.0496 - accuracy: 1.0000\n",
      "Epoch 17/150\n",
      "20/20 [==============================] - 0s 1ms/sample - loss: 0.0487 - accuracy: 1.0000\n",
      "Epoch 18/150\n",
      "20/20 [==============================] - 0s 2ms/sample - loss: 0.0485 - accuracy: 1.0000\n",
      "Epoch 19/150\n",
      "20/20 [==============================] - 0s 2ms/sample - loss: 0.0487 - accuracy: 1.0000\n",
      "Epoch 20/150\n",
      "20/20 [==============================] - 0s 1ms/sample - loss: 0.0482 - accuracy: 1.0000\n",
      "Epoch 21/150\n",
      "20/20 [==============================] - 0s 2ms/sample - loss: 0.0464 - accuracy: 1.0000\n",
      "Epoch 22/150\n",
      "20/20 [==============================] - 0s 2ms/sample - loss: 0.0444 - accuracy: 1.0000\n",
      "Epoch 23/150\n",
      "20/20 [==============================] - 0s 1ms/sample - loss: 0.0429 - accuracy: 1.0000\n",
      "Epoch 24/150\n",
      "20/20 [==============================] - 0s 2ms/sample - loss: 0.0416 - accuracy: 1.0000\n",
      "Epoch 25/150\n",
      "20/20 [==============================] - 0s 1ms/sample - loss: 0.0405 - accuracy: 1.0000\n",
      "Epoch 26/150\n",
      "20/20 [==============================] - 0s 2ms/sample - loss: 0.0394 - accuracy: 1.0000\n",
      "Epoch 27/150\n",
      "20/20 [==============================] - 0s 1ms/sample - loss: 0.0385 - accuracy: 1.0000\n",
      "Epoch 28/150\n",
      "20/20 [==============================] - 0s 2ms/sample - loss: 0.0378 - accuracy: 1.0000\n",
      "Epoch 29/150\n",
      "20/20 [==============================] - 0s 1ms/sample - loss: 0.0370 - accuracy: 1.0000\n",
      "Epoch 30/150\n",
      "20/20 [==============================] - 0s 1ms/sample - loss: 0.0364 - accuracy: 1.0000\n",
      "Epoch 31/150\n",
      "20/20 [==============================] - 0s 2ms/sample - loss: 0.0360 - accuracy: 1.0000\n",
      "Epoch 32/150\n",
      "20/20 [==============================] - 0s 2ms/sample - loss: 0.0358 - accuracy: 1.0000\n",
      "Epoch 33/150\n",
      "20/20 [==============================] - 0s 2ms/sample - loss: 0.0355 - accuracy: 1.0000\n",
      "Epoch 34/150\n",
      "20/20 [==============================] - 0s 1ms/sample - loss: 0.0352 - accuracy: 1.0000\n",
      "Epoch 35/150\n",
      "20/20 [==============================] - 0s 1ms/sample - loss: 0.0348 - accuracy: 1.0000\n",
      "Epoch 36/150\n",
      "20/20 [==============================] - 0s 1ms/sample - loss: 0.0345 - accuracy: 1.0000\n",
      "Epoch 37/150\n",
      "20/20 [==============================] - 0s 2ms/sample - loss: 0.0341 - accuracy: 1.0000\n",
      "Epoch 38/150\n",
      "20/20 [==============================] - 0s 2ms/sample - loss: 0.0337 - accuracy: 1.0000\n",
      "Epoch 39/150\n",
      "20/20 [==============================] - 0s 1ms/sample - loss: 0.0334 - accuracy: 1.0000\n",
      "Epoch 40/150\n",
      "20/20 [==============================] - 0s 1ms/sample - loss: 0.0330 - accuracy: 1.0000\n",
      "Epoch 41/150\n",
      "20/20 [==============================] - 0s 1ms/sample - loss: 0.0325 - accuracy: 1.0000\n",
      "Epoch 42/150\n",
      "20/20 [==============================] - 0s 1ms/sample - loss: 0.0321 - accuracy: 1.0000\n",
      "Epoch 43/150\n",
      "20/20 [==============================] - 0s 1ms/sample - loss: 0.0317 - accuracy: 1.0000\n",
      "Epoch 44/150\n",
      "20/20 [==============================] - 0s 1ms/sample - loss: 0.0313 - accuracy: 1.0000\n",
      "Epoch 45/150\n",
      "20/20 [==============================] - 0s 2ms/sample - loss: 0.0309 - accuracy: 1.0000\n",
      "Epoch 46/150\n",
      "20/20 [==============================] - 0s 2ms/sample - loss: 0.0306 - accuracy: 1.0000\n",
      "Epoch 47/150\n",
      "20/20 [==============================] - 0s 2ms/sample - loss: 0.0303 - accuracy: 1.0000\n",
      "Epoch 48/150\n",
      "20/20 [==============================] - 0s 2ms/sample - loss: 0.0300 - accuracy: 1.0000\n",
      "Epoch 49/150\n",
      "20/20 [==============================] - 0s 2ms/sample - loss: 0.0297 - accuracy: 1.0000\n",
      "Epoch 50/150\n",
      "20/20 [==============================] - 0s 2ms/sample - loss: 0.0294 - accuracy: 1.0000\n",
      "Epoch 51/150\n",
      "20/20 [==============================] - 0s 2ms/sample - loss: 0.0292 - accuracy: 1.0000\n",
      "Epoch 52/150\n",
      "20/20 [==============================] - 0s 2ms/sample - loss: 0.0289 - accuracy: 1.0000\n",
      "Epoch 53/150\n",
      "20/20 [==============================] - 0s 1ms/sample - loss: 0.0286 - accuracy: 1.0000\n",
      "Epoch 54/150\n",
      "20/20 [==============================] - 0s 2ms/sample - loss: 0.0284 - accuracy: 1.0000\n",
      "Epoch 55/150\n",
      "20/20 [==============================] - 0s 1ms/sample - loss: 0.0281 - accuracy: 1.0000\n",
      "Epoch 56/150\n",
      "20/20 [==============================] - 0s 1ms/sample - loss: 0.0278 - accuracy: 1.0000\n",
      "Epoch 57/150\n",
      "20/20 [==============================] - 0s 950us/sample - loss: 0.0275 - accuracy: 1.0000\n",
      "Epoch 58/150\n",
      "20/20 [==============================] - 0s 1ms/sample - loss: 0.0273 - accuracy: 1.0000\n",
      "Epoch 59/150\n",
      "20/20 [==============================] - 0s 2ms/sample - loss: 0.0270 - accuracy: 1.0000\n",
      "Epoch 60/150\n",
      "20/20 [==============================] - 0s 998us/sample - loss: 0.0268 - accuracy: 1.0000\n",
      "Epoch 61/150\n",
      "20/20 [==============================] - 0s 2ms/sample - loss: 0.0265 - accuracy: 1.0000\n",
      "Epoch 62/150\n",
      "20/20 [==============================] - 0s 2ms/sample - loss: 0.0263 - accuracy: 1.0000\n",
      "Epoch 63/150\n",
      "20/20 [==============================] - 0s 1ms/sample - loss: 0.0261 - accuracy: 1.0000\n",
      "Epoch 64/150\n",
      "20/20 [==============================] - 0s 2ms/sample - loss: 0.0258 - accuracy: 1.0000\n",
      "Epoch 65/150\n",
      "20/20 [==============================] - 0s 1ms/sample - loss: 0.0256 - accuracy: 1.0000\n",
      "Epoch 66/150\n",
      "20/20 [==============================] - 0s 1ms/sample - loss: 0.0254 - accuracy: 1.0000\n",
      "Epoch 67/150\n",
      "20/20 [==============================] - 0s 1ms/sample - loss: 0.0252 - accuracy: 1.0000\n",
      "Epoch 68/150\n",
      "20/20 [==============================] - 0s 1ms/sample - loss: 0.0250 - accuracy: 1.0000\n",
      "Epoch 69/150\n",
      "20/20 [==============================] - 0s 1ms/sample - loss: 0.0248 - accuracy: 1.0000\n",
      "Epoch 70/150\n",
      "20/20 [==============================] - 0s 2ms/sample - loss: 0.0246 - accuracy: 1.0000\n",
      "Epoch 71/150\n",
      "20/20 [==============================] - 0s 1ms/sample - loss: 0.0244 - accuracy: 1.0000\n",
      "Epoch 72/150\n",
      "20/20 [==============================] - 0s 1ms/sample - loss: 0.0242 - accuracy: 1.0000\n",
      "Epoch 73/150\n",
      "20/20 [==============================] - 0s 1ms/sample - loss: 0.0240 - accuracy: 1.0000\n",
      "Epoch 74/150\n",
      "20/20 [==============================] - 0s 1ms/sample - loss: 0.0238 - accuracy: 1.0000\n",
      "Epoch 75/150\n",
      "20/20 [==============================] - 0s 1ms/sample - loss: 0.0236 - accuracy: 1.0000\n",
      "Epoch 76/150\n",
      "20/20 [==============================] - 0s 1ms/sample - loss: 0.0234 - accuracy: 1.0000\n",
      "Epoch 77/150\n",
      "20/20 [==============================] - 0s 1ms/sample - loss: 0.0232 - accuracy: 1.0000\n",
      "Epoch 78/150\n",
      "20/20 [==============================] - 0s 1ms/sample - loss: 0.0230 - accuracy: 1.0000\n",
      "Epoch 79/150\n",
      "20/20 [==============================] - 0s 2ms/sample - loss: 0.0228 - accuracy: 1.0000\n",
      "Epoch 80/150\n",
      "20/20 [==============================] - 0s 2ms/sample - loss: 0.0226 - accuracy: 1.0000\n",
      "Epoch 81/150\n"
     ]
    },
    {
     "name": "stdout",
     "output_type": "stream",
     "text": [
      "20/20 [==============================] - 0s 1ms/sample - loss: 0.0225 - accuracy: 1.0000\n",
      "Epoch 82/150\n",
      "20/20 [==============================] - 0s 2ms/sample - loss: 0.0223 - accuracy: 1.0000\n",
      "Epoch 83/150\n",
      "20/20 [==============================] - 0s 1ms/sample - loss: 0.0221 - accuracy: 1.0000\n",
      "Epoch 84/150\n",
      "20/20 [==============================] - 0s 2ms/sample - loss: 0.0220 - accuracy: 1.0000\n",
      "Epoch 85/150\n",
      "20/20 [==============================] - 0s 1ms/sample - loss: 0.0218 - accuracy: 1.0000\n",
      "Epoch 86/150\n",
      "20/20 [==============================] - 0s 1ms/sample - loss: 0.0216 - accuracy: 1.0000\n",
      "Epoch 87/150\n",
      "20/20 [==============================] - 0s 870us/sample - loss: 0.0215 - accuracy: 1.0000\n",
      "Epoch 88/150\n",
      "20/20 [==============================] - 0s 1ms/sample - loss: 0.0213 - accuracy: 1.0000\n",
      "Epoch 89/150\n",
      "20/20 [==============================] - 0s 1ms/sample - loss: 0.0211 - accuracy: 1.0000\n",
      "Epoch 90/150\n",
      "20/20 [==============================] - 0s 1ms/sample - loss: 0.0210 - accuracy: 1.0000\n",
      "Epoch 91/150\n",
      "20/20 [==============================] - 0s 1ms/sample - loss: 0.0208 - accuracy: 1.0000\n",
      "Epoch 92/150\n",
      "20/20 [==============================] - 0s 883us/sample - loss: 0.0207 - accuracy: 1.0000\n",
      "Epoch 93/150\n",
      "20/20 [==============================] - 0s 1ms/sample - loss: 0.0205 - accuracy: 1.0000\n",
      "Epoch 94/150\n",
      "20/20 [==============================] - 0s 1ms/sample - loss: 0.0204 - accuracy: 1.0000\n",
      "Epoch 95/150\n",
      "20/20 [==============================] - 0s 1ms/sample - loss: 0.0202 - accuracy: 1.0000\n",
      "Epoch 96/150\n",
      "20/20 [==============================] - 0s 1ms/sample - loss: 0.0201 - accuracy: 1.0000\n",
      "Epoch 97/150\n",
      "20/20 [==============================] - 0s 1ms/sample - loss: 0.0199 - accuracy: 1.0000\n",
      "Epoch 98/150\n",
      "20/20 [==============================] - 0s 1ms/sample - loss: 0.0198 - accuracy: 1.0000\n",
      "Epoch 99/150\n",
      "20/20 [==============================] - 0s 1ms/sample - loss: 0.0196 - accuracy: 1.0000\n",
      "Epoch 100/150\n",
      "20/20 [==============================] - 0s 2ms/sample - loss: 0.0195 - accuracy: 1.0000\n",
      "Epoch 101/150\n",
      "20/20 [==============================] - 0s 2ms/sample - loss: 0.0194 - accuracy: 1.0000\n",
      "Epoch 102/150\n",
      "20/20 [==============================] - 0s 2ms/sample - loss: 0.0192 - accuracy: 1.0000\n",
      "Epoch 103/150\n",
      "20/20 [==============================] - 0s 1ms/sample - loss: 0.0191 - accuracy: 1.0000\n",
      "Epoch 104/150\n",
      "20/20 [==============================] - 0s 1ms/sample - loss: 0.0190 - accuracy: 1.0000\n",
      "Epoch 105/150\n",
      "20/20 [==============================] - 0s 1ms/sample - loss: 0.0188 - accuracy: 1.0000\n",
      "Epoch 106/150\n",
      "20/20 [==============================] - 0s 943us/sample - loss: 0.0187 - accuracy: 1.0000\n",
      "Epoch 107/150\n",
      "20/20 [==============================] - 0s 1ms/sample - loss: 0.0186 - accuracy: 1.0000\n",
      "Epoch 108/150\n",
      "20/20 [==============================] - 0s 1ms/sample - loss: 0.0184 - accuracy: 1.0000\n",
      "Epoch 109/150\n",
      "20/20 [==============================] - 0s 1ms/sample - loss: 0.0183 - accuracy: 1.0000\n",
      "Epoch 110/150\n",
      "20/20 [==============================] - 0s 1ms/sample - loss: 0.0182 - accuracy: 1.0000\n",
      "Epoch 111/150\n",
      "20/20 [==============================] - 0s 1ms/sample - loss: 0.0181 - accuracy: 1.0000\n",
      "Epoch 112/150\n",
      "20/20 [==============================] - 0s 1ms/sample - loss: 0.0179 - accuracy: 1.0000\n",
      "Epoch 113/150\n",
      "20/20 [==============================] - 0s 981us/sample - loss: 0.0178 - accuracy: 1.0000\n",
      "Epoch 114/150\n",
      "20/20 [==============================] - 0s 1ms/sample - loss: 0.0177 - accuracy: 1.0000\n",
      "Epoch 115/150\n",
      "20/20 [==============================] - 0s 1ms/sample - loss: 0.0176 - accuracy: 1.0000\n",
      "Epoch 116/150\n",
      "20/20 [==============================] - 0s 1ms/sample - loss: 0.0174 - accuracy: 1.0000\n",
      "Epoch 117/150\n",
      "20/20 [==============================] - 0s 1ms/sample - loss: 0.0173 - accuracy: 1.0000\n",
      "Epoch 118/150\n",
      "20/20 [==============================] - 0s 1ms/sample - loss: 0.0172 - accuracy: 1.0000\n",
      "Epoch 119/150\n",
      "20/20 [==============================] - 0s 1ms/sample - loss: 0.0171 - accuracy: 1.0000\n",
      "Epoch 120/150\n",
      "20/20 [==============================] - 0s 1ms/sample - loss: 0.0170 - accuracy: 1.0000\n",
      "Epoch 121/150\n",
      "20/20 [==============================] - 0s 1ms/sample - loss: 0.0169 - accuracy: 1.0000\n",
      "Epoch 122/150\n",
      "20/20 [==============================] - 0s 2ms/sample - loss: 0.0168 - accuracy: 1.0000\n",
      "Epoch 123/150\n",
      "20/20 [==============================] - 0s 2ms/sample - loss: 0.0167 - accuracy: 1.0000\n",
      "Epoch 124/150\n",
      "20/20 [==============================] - 0s 2ms/sample - loss: 0.0165 - accuracy: 1.0000\n",
      "Epoch 125/150\n",
      "20/20 [==============================] - 0s 2ms/sample - loss: 0.0164 - accuracy: 1.0000\n",
      "Epoch 126/150\n",
      "20/20 [==============================] - 0s 2ms/sample - loss: 0.0163 - accuracy: 1.0000\n",
      "Epoch 127/150\n",
      "20/20 [==============================] - 0s 1ms/sample - loss: 0.0162 - accuracy: 1.0000\n",
      "Epoch 128/150\n",
      "20/20 [==============================] - 0s 1ms/sample - loss: 0.0161 - accuracy: 1.0000\n",
      "Epoch 129/150\n",
      "20/20 [==============================] - 0s 1ms/sample - loss: 0.0160 - accuracy: 1.0000\n",
      "Epoch 130/150\n",
      "20/20 [==============================] - 0s 931us/sample - loss: 0.0159 - accuracy: 1.0000\n",
      "Epoch 131/150\n",
      "20/20 [==============================] - 0s 1ms/sample - loss: 0.0158 - accuracy: 1.0000\n",
      "Epoch 132/150\n",
      "20/20 [==============================] - 0s 1ms/sample - loss: 0.0157 - accuracy: 1.0000\n",
      "Epoch 133/150\n",
      "20/20 [==============================] - 0s 1ms/sample - loss: 0.0156 - accuracy: 1.0000\n",
      "Epoch 134/150\n",
      "20/20 [==============================] - 0s 1ms/sample - loss: 0.0155 - accuracy: 1.0000\n",
      "Epoch 135/150\n",
      "20/20 [==============================] - 0s 1ms/sample - loss: 0.0154 - accuracy: 1.0000\n",
      "Epoch 136/150\n",
      "20/20 [==============================] - 0s 1ms/sample - loss: 0.0153 - accuracy: 1.0000\n",
      "Epoch 137/150\n",
      "20/20 [==============================] - 0s 1ms/sample - loss: 0.0152 - accuracy: 1.0000\n",
      "Epoch 138/150\n",
      "20/20 [==============================] - 0s 1ms/sample - loss: 0.0151 - accuracy: 1.0000\n",
      "Epoch 139/150\n",
      "20/20 [==============================] - 0s 1ms/sample - loss: 0.0150 - accuracy: 1.0000\n",
      "Epoch 140/150\n",
      "20/20 [==============================] - 0s 1ms/sample - loss: 0.0149 - accuracy: 1.0000\n",
      "Epoch 141/150\n",
      "20/20 [==============================] - 0s 1ms/sample - loss: 0.0148 - accuracy: 1.0000\n",
      "Epoch 142/150\n",
      "20/20 [==============================] - 0s 1ms/sample - loss: 0.0147 - accuracy: 1.0000\n",
      "Epoch 143/150\n",
      "20/20 [==============================] - 0s 1ms/sample - loss: 0.0147 - accuracy: 1.0000\n",
      "Epoch 144/150\n",
      "20/20 [==============================] - 0s 1ms/sample - loss: 0.0146 - accuracy: 1.0000\n",
      "Epoch 145/150\n",
      "20/20 [==============================] - 0s 1ms/sample - loss: 0.0145 - accuracy: 1.0000\n",
      "Epoch 146/150\n",
      "20/20 [==============================] - 0s 1ms/sample - loss: 0.0144 - accuracy: 1.0000\n",
      "Epoch 147/150\n",
      "20/20 [==============================] - 0s 2ms/sample - loss: 0.0143 - accuracy: 1.0000\n",
      "Epoch 148/150\n",
      "20/20 [==============================] - 0s 2ms/sample - loss: 0.0142 - accuracy: 1.0000\n",
      "Epoch 149/150\n",
      "20/20 [==============================] - 0s 2ms/sample - loss: 0.0141 - accuracy: 1.0000\n",
      "Epoch 150/150\n",
      "20/20 [==============================] - 0s 2ms/sample - loss: 0.0140 - accuracy: 1.0000\n"
     ]
    }
   ],
   "source": [
    "model.compile(optimizer = 'adam', loss = 'categorical_crossentropy', metrics = ['accuracy'])\n",
    "history = model.fit(xs, ys, epochs = 150, verbose = 1)"
   ]
  },
  {
   "cell_type": "code",
   "execution_count": 30,
   "metadata": {},
   "outputs": [
    {
     "name": "stdout",
     "output_type": "stream",
     "text": [
      "dict_keys(['loss', 'accuracy'])\n"
     ]
    },
    {
     "data": {
      "text/plain": [
       "Text(0, 0.5, 'Accuracy')"
      ]
     },
     "execution_count": 30,
     "metadata": {},
     "output_type": "execute_result"
    },
    {
     "data": {
      "image/png": "[encoded data removed]",
      "text/plain": [
       "<Figure size 864x432 with 1 Axes>"
      ]
     },
     "metadata": {
      "needs_background": "light"
     },
     "output_type": "display_data"
    }
   ],
   "source": [
    "print(history.history.keys())\n",
    "plt.figure(figsize = (12,6))\n",
    "#plt.plot(history.history['acc'])\n",
    "# plt.plot(history.history['loss'])\n",
    "plt.plot(history.history['accuracy'])\n",
    "plt.xlabel('Epochs')\n",
    "plt.ylabel('Accuracy')\n",
    "\n"
   ]
  },
  {
   "cell_type": "code",
   "execution_count": 38,
   "metadata": {},
   "outputs": [
    {
     "name": "stdout",
     "output_type": "stream",
     "text": [
      "In the town                                                                                                     \n"
     ]
    }
   ],
   "source": [
    "seed_text = 'In the town '\n",
    "next_words = 100\n",
    "\n",
    "for i in range(next_words):\n",
    "    token_list = tokenizer.texts_to_sequences([seed_text])[0]\n",
    "    token_list = pad_sequences([token_list], maxlen = (max_sequence_len - 1), padding = 'pre')\n",
    "    predicted = model.predict_classes(token_list, verbose = 0)\n",
    "    output_word = \"\"\n",
    "    for index, word in tokenizer.word_index.items():\n",
    "        if index == predicted:\n",
    "            output_word = word \n",
    "            break\n",
    "        \n",
    "    seed_text += \" \" + output_word\n",
    "    \n",
    "print(seed_text)"
   ]
  },
  {
   "cell_type": "code",
   "execution_count": null,
   "metadata": {},
   "outputs": [],
   "source": []
  }
 ],
 "metadata": {
  "kernelspec": {
   "display_name": "Python 3",
   "language": "python",
   "name": "python3"
  },
  "language_info": {
   "codemirror_mode": {
    "name": "ipython",
    "version": 3
   },
   "file_extension": ".py",
   "mimetype": "text/x-python",
   "name": "python",
   "nbconvert_exporter": "python",
   "pygments_lexer": "ipython3",
   "version": "3.7.4"
  }
 },
 "nbformat": 4,
 "nbformat_minor": 2
}
