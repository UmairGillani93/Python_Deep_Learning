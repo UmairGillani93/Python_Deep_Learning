{
 "cells": [
  {
   "cell_type": "code",
   "execution_count": 17,
   "metadata": {},
   "outputs": [
    {
     "name": "stdout",
     "output_type": "stream",
     "text": [
      "1.14.0\n",
      "Model: \"sequential_2\"\n",
      "_________________________________________________________________\n",
      "Layer (type)                 Output Shape              Param #   \n",
      "=================================================================\n",
      "conv2d_2 (Conv2D)            (None, 26, 26, 64)        640       \n",
      "_________________________________________________________________\n",
      "max_pooling2d_2 (MaxPooling2 (None, 13, 13, 64)        0         \n",
      "_________________________________________________________________\n",
      "conv2d_3 (Conv2D)            (None, 11, 11, 64)        36928     \n",
      "_________________________________________________________________\n",
      "max_pooling2d_3 (MaxPooling2 (None, 5, 5, 64)          0         \n",
      "_________________________________________________________________\n",
      "flatten_2 (Flatten)          (None, 1600)              0         \n",
      "_________________________________________________________________\n",
      "dense_4 (Dense)              (None, 128)               204928    \n",
      "_________________________________________________________________\n",
      "dense_5 (Dense)              (None, 10)                1290      \n",
      "=================================================================\n",
      "Total params: 243,786\n",
      "Trainable params: 243,786\n",
      "Non-trainable params: 0\n",
      "_________________________________________________________________\n",
      "Epoch 1/5\n",
      "60000/60000 [==============================] - 74s 1ms/sample - loss: 0.4400 - acc: 0.8394\n",
      "Epoch 2/5\n",
      "60000/60000 [==============================] - 74s 1ms/sample - loss: 0.2961 - acc: 0.8912\n",
      "Epoch 3/5\n",
      "60000/60000 [==============================] - 75s 1ms/sample - loss: 0.2498 - acc: 0.9079\n",
      "Epoch 4/5\n",
      "60000/60000 [==============================] - 75s 1ms/sample - loss: 0.2173 - acc: 0.9193\n",
      "Epoch 5/5\n",
      "60000/60000 [==============================] - 74s 1ms/sample - loss: 0.1900 - acc: 0.9306\n",
      "10000/10000 [==============================] - 4s 405us/sample - loss: 0.2511 - acc: 0.9089\n"
     ]
    }
   ],
   "source": [
    "import tensorflow as tf\n",
    "print(tf.__version__)\n",
    "\n",
    "mnist = tf.keras.datasets.fashion_mnist\n",
    "(training_images, training_labels), (test_images, test_labels) = mnist.load_data()\n",
    "\n",
    "training_images=training_images.reshape(60000, 28, 28, 1)\n",
    "training_images=training_images / 255.0\n",
    "                                        \n",
    "test_images = test_images.reshape(10000, 28, 28, 1)\n",
    "test_images=test_images / 255.0\n",
    "\n",
    "# Building the model                                        \n",
    "model = tf.keras.models.Sequential([\n",
    "  tf.keras.layers.Conv2D(64, (3,3), activation = 'relu', input_shape = (28, 28, 1)),\n",
    "  tf.keras.layers.MaxPooling2D(2, 2),\n",
    "  tf.keras.layers.Conv2D(64, (3,3), activation = 'relu'),\n",
    "  tf.keras.layers.MaxPooling2D(2,2),\n",
    "  tf.keras.layers.Flatten(),\n",
    "  tf.keras.layers.Dense(128, activation = 'relu'),\n",
    "  tf.keras.layers.Dense(10, activation = 'softmax')\n",
    "])\n",
    "\n",
    "# Compiling the modle                                       \n",
    "model.compile(optimizer='adam', loss='sparse_categorical_crossentropy', metrics=['accuracy'])\n",
    "\n",
    "# Model Summary                                        \n",
    "model.summary()\n",
    "\n",
    "# Fitting the model                                         \n",
    "model.fit(training_images, training_labels, epochs = 5)\n",
    "\n",
    "# Model evaluation                                        \n",
    "test_loss = model.evaluate(test_images, test_labels)\n",
    "\n",
    "\n"
   ]
  },
  {
   "cell_type": "code",
   "execution_count": null,
   "metadata": {},
   "outputs": [],
   "source": []
  }
 ],
 "metadata": {
  "kernelspec": {
   "display_name": "Python 3",
   "language": "python",
   "name": "python3"
  },
  "language_info": {
   "codemirror_mode": {
    "name": "ipython",
    "version": 3
   },
   "file_extension": ".py",
   "mimetype": "text/x-python",
   "name": "python",
   "nbconvert_exporter": "python",
   "pygments_lexer": "ipython3",
   "version": "3.7.3"
  }
 },
 "nbformat": 4,
 "nbformat_minor": 2
}
