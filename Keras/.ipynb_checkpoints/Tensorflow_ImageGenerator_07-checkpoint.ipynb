{
 "cells": [
  {
   "cell_type": "code",
   "execution_count": 1,
   "metadata": {},
   "outputs": [
    {
     "name": "stdout",
     "output_type": "stream",
     "text": [
      "--2019-11-01 16:29:18--  https://storage.googleapis.com/laurencemoroney-blog.appspot.com/horse-or-human.zip\n",
      "Resolving storage.googleapis.com (storage.googleapis.com)... 172.217.169.240, 2a00:1450:4018:801::2010\n",
      "Connecting to storage.googleapis.com (storage.googleapis.com)|172.217.169.240|:443... connected.\n",
      "HTTP request sent, awaiting response... 200 OK\n",
      "Length: 149574867 (143M) [application/zip]\n",
      "Saving to: ‘/tmp/horse-or-human.zip’\n",
      "\n",
      "/tmp/horse-or-human 100%[===================>] 142.65M  3.36MB/s    in 77s     \n",
      "\n",
      "2019-11-01 16:30:37 (1.84 MB/s) - ‘/tmp/horse-or-human.zip’ saved [149574867/149574867]\n",
      "\n"
     ]
    }
   ],
   "source": [
    "!wget --no-check-certificate \\\n",
    "    https://storage.googleapis.com/laurencemoroney-blog.appspot.com/horse-or-human.zip \\\n",
    "    -O /tmp/horse-or-human.zip"
   ]
  },
  {
   "cell_type": "code",
   "execution_count": 2,
   "metadata": {},
   "outputs": [],
   "source": [
    "import os \n",
    "import zipfile \n",
    "\n",
    "local_zip = \"/tmp/horse-or-human.zip\" # zip directory Address\n",
    "zip_ref = zipfile.ZipFile(local_zip, 'r') # zip reference / \"r\" to read from the directory\n",
    "zip_ref.extractall('/tmp/horse-or-human')\n",
    "zip_ref.close()\n",
    "\n",
    "# The contents of the zip directory are extracted in base directory /tmp/horse-or-human\n",
    "# This in turn contains \"horses\" and \"humans\" subdirectories"
   ]
  },
  {
   "cell_type": "code",
   "execution_count": 8,
   "metadata": {},
   "outputs": [
    {
     "name": "stdout",
     "output_type": "stream",
     "text": [
      "['horse29-7.png', 'horse49-5.png', 'horse25-8.png', 'horse27-7.png', 'horse25-6.png', 'horse04-8.png', 'horse15-4.png', 'horse50-2.png', 'horse28-6.png', 'horse22-6.png']\n",
      "\n",
      "\n",
      "['human07-28.png', 'human06-20.png', 'human04-15.png', 'human03-12.png', 'human05-01.png', 'human01-22.png', 'human07-15.png', 'human01-10.png', 'human09-16.png', 'human05-19.png']\n"
     ]
    }
   ],
   "source": [
    "# Directory with our training horse pictures\n",
    "train_horse_dir = os.path.join('/tmp/horse-or-human/horses')\n",
    "\n",
    "# Directory with our training human pictures\n",
    "train_human_dir = os.path.join('/tmp/horse-or-human/humans')\n",
    "\n",
    "# Let's see how the filenames looks like in humans and horses training directories\n",
    "train_human_names = os.listdir(train_human_dir)\n",
    "print(train_horse_names[:10])\n",
    "\n",
    "print('\\n')\n",
    "train_horse_names = os.listdir(train_horse_dir)\n",
    "print(train_human_names[:10])\n"
   ]
  },
  {
   "cell_type": "code",
   "execution_count": 9,
   "metadata": {},
   "outputs": [
    {
     "name": "stdout",
     "output_type": "stream",
     "text": [
      "Total training horse images:  500\n",
      "Total trainin human images:  527\n"
     ]
    }
   ],
   "source": [
    "# Total number of horse and human images\n",
    "print('Total training horse images: ', len(os.listdir(train_horse_dir)))\n",
    "print('Total trainin human images: ', len(os.listdir(train_human_dir)))"
   ]
  },
  {
   "cell_type": "markdown",
   "metadata": {},
   "source": [
    "Now let's go ahead and take a look at a few pictures, to get a better sense of what they look like. First let's configure the __Matplotlib__ parameters."
   ]
  },
  {
   "cell_type": "code",
   "execution_count": 10,
   "metadata": {},
   "outputs": [],
   "source": [
    "import matplotlib.pyplot as plt \n",
    "import matplotlib.image as mpimg\n",
    "\n",
    "%matplotlib inline \n",
    "\n",
    "# we'll output our image in 4*4 configuration\n",
    "nrows = 4\n",
    "ncols = 4\n",
    "\n",
    "# Index for iterating over images\n",
    "pic_index = 0"
   ]
  },
  {
   "cell_type": "markdown",
   "metadata": {},
   "source": [
    "Now display the batch of 8 __Horse__ and 8 __Human__ pictures. We can rerun the cell to see a fresh batch each time. "
   ]
  },
  {
   "cell_type": "code",
   "execution_count": 11,
   "metadata": {},
   "outputs": [
    {
     "data": {
      "text/plain": [
       "<Figure size 1152x1152 with 0 Axes>"
      ]
     },
     "metadata": {},
     "output_type": "display_data"
    }
   ],
   "source": [
    "# set up matplotlib fig, and size it to fit 4*4 pics\n",
    "fig = plt.gcf() # Get the current figure.\n",
    "fig.set_size_inches(ncols * 4, nrows * 4)\n",
    "\n",
    "pic_index += 8\n",
    "next_horse_pix = [os.path.join(train_horse_dir, fname)\n",
    "                  for fname in train_horse_names[pic_index-8: pic_index]]\n",
    "\n",
    "next_human_pix = [os.path.join(train_human_dir, fname)\n",
    "                 ]"
   ]
  },
  {
   "cell_type": "code",
   "execution_count": null,
   "metadata": {},
   "outputs": [],
   "source": []
  }
 ],
 "metadata": {
  "kernelspec": {
   "display_name": "Python 3",
   "language": "python",
   "name": "python3"
  },
  "language_info": {
   "codemirror_mode": {
    "name": "ipython",
    "version": 3
   },
   "file_extension": ".py",
   "mimetype": "text/x-python",
   "name": "python",
   "nbconvert_exporter": "python",
   "pygments_lexer": "ipython3",
   "version": "3.7.3"
  }
 },
 "nbformat": 4,
 "nbformat_minor": 2
}
