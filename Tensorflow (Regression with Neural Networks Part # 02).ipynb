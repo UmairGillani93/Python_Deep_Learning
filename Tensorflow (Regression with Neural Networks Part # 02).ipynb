{
 "cells": [
  {
   "cell_type": "markdown",
   "metadata": {},
   "source": [
    "## Tensorflow Neural Networks (Regression Part # 02):\n",
    "\n",
    "Let's code along some more realistic Tensorflow __Regression__ example, and we'll also introduce Tensorflow's __tf.estimate__ API, which is a much simpler API for models like __Regression__ and __Classification__.\n",
    "\n",
    "We already have a lot of Machine Learning algorithms that can perform __Regression__ and __Classification__ tasks very well. But, the purpose of Tensorflow really is to try to solve problems that typical Machine Learning algorithms can't solve e.g __image classification__.\n",
    "\n",
    "Later on, we'll see how to use Tensorflow for things like __word embeddings__ or even using __Recurrent Neural Networks__ for time-series analysis. Those are the problems that are really hard to solve without the use of __Deep Neural Network__ or __Specialized Neural Networks__ using Tensorflow.\n",
    "\n",
    "Simple example like typical __Regression__ and __Classfication__ tasks are pretty easy to solve, well! depending on our dataset with other Machine Learning algorithms, and because Tensorflow has a nice __estimator API__ that's going to make our lives a lot easier, if we decide to use Tensorflow for some of these more basic supervised learning problems.\n",
    "\n",
    "So, Let's to ahead and see how we can perform more realistic __Regression__ tasks with Tensorflow.."
   ]
  },
  {
   "cell_type": "code",
   "execution_count": 1,
   "metadata": {},
   "outputs": [],
   "source": [
    "import numpy as np\n",
    "import pandas as pd\n",
    "import matplotlib.pyplot as plt\n",
    "import tensorflow as tf\n",
    "\n",
    "%matplotlib inline"
   ]
  },
  {
   "cell_type": "code",
   "execution_count": 2,
   "metadata": {},
   "outputs": [
    {
     "name": "stdout",
     "output_type": "stream",
     "text": [
      "[0.000000e+00 1.000001e-05 2.000002e-05 ... 9.999980e+00 9.999990e+00\n",
      " 1.000000e+01]\n",
      "\n",
      "\n",
      "[ 0.36433715 -0.61638482 -1.76604647 ... -0.65944993 -0.02658167\n",
      " -0.31181974]\n"
     ]
    }
   ],
   "source": [
    "# Creating data set with noise added! \n",
    "\n",
    "x_data = np.linspace(0.0, 10.0, 1000000)\n",
    "noise = np.random.randn(len(x_data))\n",
    "\n",
    "print(x_data)\n",
    "print('\\n')\n",
    "print(noise)"
   ]
  },
  {
   "cell_type": "markdown",
   "metadata": {},
   "source": [
    "#### Equation:\n",
    "\n",
    "y = mx + b\n",
    "\n",
    "b = 5"
   ]
  },
  {
   "cell_type": "code",
   "execution_count": 3,
   "metadata": {},
   "outputs": [],
   "source": [
    "# Original 'y', later on we'll figure out using Neural Network whick is '0.5' for now\n",
    "# And to make it a little harder for our model, we'll add some noise in it\n",
    "\n",
    "y_true = (0.5 * x_data) + 5 + noise"
   ]
  },
  {
   "cell_type": "code",
   "execution_count": 4,
   "metadata": {},
   "outputs": [],
   "source": [
    "# Creating data frame off of our generated data\n",
    "\n",
    "x_df = pd.DataFrame(data = x_data, columns = ['X Data'])\n",
    "y_df = pd.DataFrame(data = y_true, columns = ['Y'])"
   ]
  },
  {
   "cell_type": "code",
   "execution_count": 5,
   "metadata": {},
   "outputs": [
    {
     "data": {
      "text/html": [
       "<div>\n",
       "<style scoped>\n",
       "    .dataframe tbody tr th:only-of-type {\n",
       "        vertical-align: middle;\n",
       "    }\n",
       "\n",
       "    .dataframe tbody tr th {\n",
       "        vertical-align: top;\n",
       "    }\n",
       "\n",
       "    .dataframe thead th {\n",
       "        text-align: right;\n",
       "    }\n",
       "</style>\n",
       "<table border=\"1\" class=\"dataframe\">\n",
       "  <thead>\n",
       "    <tr style=\"text-align: right;\">\n",
       "      <th></th>\n",
       "      <th>X Data</th>\n",
       "    </tr>\n",
       "  </thead>\n",
       "  <tbody>\n",
       "    <tr>\n",
       "      <th>0</th>\n",
       "      <td>0.00000</td>\n",
       "    </tr>\n",
       "    <tr>\n",
       "      <th>1</th>\n",
       "      <td>0.00001</td>\n",
       "    </tr>\n",
       "    <tr>\n",
       "      <th>2</th>\n",
       "      <td>0.00002</td>\n",
       "    </tr>\n",
       "    <tr>\n",
       "      <th>3</th>\n",
       "      <td>0.00003</td>\n",
       "    </tr>\n",
       "    <tr>\n",
       "      <th>4</th>\n",
       "      <td>0.00004</td>\n",
       "    </tr>\n",
       "  </tbody>\n",
       "</table>\n",
       "</div>"
      ],
      "text/plain": [
       "    X Data\n",
       "0  0.00000\n",
       "1  0.00001\n",
       "2  0.00002\n",
       "3  0.00003\n",
       "4  0.00004"
      ]
     },
     "execution_count": 5,
     "metadata": {},
     "output_type": "execute_result"
    }
   ],
   "source": [
    "x_df.head()"
   ]
  },
  {
   "cell_type": "code",
   "execution_count": 6,
   "metadata": {},
   "outputs": [
    {
     "data": {
      "text/html": [
       "<div>\n",
       "<style scoped>\n",
       "    .dataframe tbody tr th:only-of-type {\n",
       "        vertical-align: middle;\n",
       "    }\n",
       "\n",
       "    .dataframe tbody tr th {\n",
       "        vertical-align: top;\n",
       "    }\n",
       "\n",
       "    .dataframe thead th {\n",
       "        text-align: right;\n",
       "    }\n",
       "</style>\n",
       "<table border=\"1\" class=\"dataframe\">\n",
       "  <thead>\n",
       "    <tr style=\"text-align: right;\">\n",
       "      <th></th>\n",
       "      <th>Y</th>\n",
       "    </tr>\n",
       "  </thead>\n",
       "  <tbody>\n",
       "    <tr>\n",
       "      <th>0</th>\n",
       "      <td>5.364337</td>\n",
       "    </tr>\n",
       "    <tr>\n",
       "      <th>1</th>\n",
       "      <td>4.383620</td>\n",
       "    </tr>\n",
       "    <tr>\n",
       "      <th>2</th>\n",
       "      <td>3.233964</td>\n",
       "    </tr>\n",
       "    <tr>\n",
       "      <th>3</th>\n",
       "      <td>5.211446</td>\n",
       "    </tr>\n",
       "    <tr>\n",
       "      <th>4</th>\n",
       "      <td>5.745040</td>\n",
       "    </tr>\n",
       "  </tbody>\n",
       "</table>\n",
       "</div>"
      ],
      "text/plain": [
       "          Y\n",
       "0  5.364337\n",
       "1  4.383620\n",
       "2  3.233964\n",
       "3  5.211446\n",
       "4  5.745040"
      ]
     },
     "execution_count": 6,
     "metadata": {},
     "output_type": "execute_result"
    }
   ],
   "source": [
    "y_df.head()"
   ]
  },
  {
   "cell_type": "code",
   "execution_count": 7,
   "metadata": {},
   "outputs": [],
   "source": [
    "# Final data frame\n",
    "\n",
    "final_data = pd.concat([x_df, y_df], axis = 1)"
   ]
  },
  {
   "cell_type": "code",
   "execution_count": 8,
   "metadata": {},
   "outputs": [
    {
     "data": {
      "text/html": [
       "<div>\n",
       "<style scoped>\n",
       "    .dataframe tbody tr th:only-of-type {\n",
       "        vertical-align: middle;\n",
       "    }\n",
       "\n",
       "    .dataframe tbody tr th {\n",
       "        vertical-align: top;\n",
       "    }\n",
       "\n",
       "    .dataframe thead th {\n",
       "        text-align: right;\n",
       "    }\n",
       "</style>\n",
       "<table border=\"1\" class=\"dataframe\">\n",
       "  <thead>\n",
       "    <tr style=\"text-align: right;\">\n",
       "      <th></th>\n",
       "      <th>X Data</th>\n",
       "      <th>Y</th>\n",
       "    </tr>\n",
       "  </thead>\n",
       "  <tbody>\n",
       "    <tr>\n",
       "      <th>0</th>\n",
       "      <td>0.00000</td>\n",
       "      <td>5.364337</td>\n",
       "    </tr>\n",
       "    <tr>\n",
       "      <th>1</th>\n",
       "      <td>0.00001</td>\n",
       "      <td>4.383620</td>\n",
       "    </tr>\n",
       "    <tr>\n",
       "      <th>2</th>\n",
       "      <td>0.00002</td>\n",
       "      <td>3.233964</td>\n",
       "    </tr>\n",
       "    <tr>\n",
       "      <th>3</th>\n",
       "      <td>0.00003</td>\n",
       "      <td>5.211446</td>\n",
       "    </tr>\n",
       "    <tr>\n",
       "      <th>4</th>\n",
       "      <td>0.00004</td>\n",
       "      <td>5.745040</td>\n",
       "    </tr>\n",
       "  </tbody>\n",
       "</table>\n",
       "</div>"
      ],
      "text/plain": [
       "    X Data         Y\n",
       "0  0.00000  5.364337\n",
       "1  0.00001  4.383620\n",
       "2  0.00002  3.233964\n",
       "3  0.00003  5.211446\n",
       "4  0.00004  5.745040"
      ]
     },
     "execution_count": 8,
     "metadata": {},
     "output_type": "execute_result"
    }
   ],
   "source": [
    "final_data.head()"
   ]
  },
  {
   "cell_type": "code",
   "execution_count": 9,
   "metadata": {},
   "outputs": [
    {
     "data": {
      "text/plain": [
       "<matplotlib.axes._subplots.AxesSubplot at 0x7f5cec45fa90>"
      ]
     },
     "execution_count": 9,
     "metadata": {},
     "output_type": "execute_result"
    },
    {
     "data": {
      "image/png": "[encoded data removed]",
      "text/plain": [
       "<Figure size 432x288 with 1 Axes>"
      ]
     },
     "metadata": {
      "needs_background": "light"
     },
     "output_type": "display_data"
    }
   ],
   "source": [
    "# Grabbing the random samples of our data\n",
    "# We can plot n_samples of our choice easily rather than whole data set\n",
    "\n",
    "final_data.sample(n = 250).plot(kind = 'scatter', x = 'X Data', y = 'Y')"
   ]
  },
  {
   "cell_type": "markdown",
   "metadata": {},
   "source": [
    "## Regression with Tensorflow:\n",
    "\n",
    "Now let's go ahead and create a linear fit on above dataset using Tensorflow. Keep in mind a _million_ points is a huge dataset to pass in at once. And a lot of times, when we are dealing with _Deep learning_, we have a humongous dataset, cuz the more data we have, the better usually for training a lot of these complex models.\n",
    "\n",
    "But, we can't just feed in a _million_ data observations into a __Neural Network__ at once. What we do instead we create __batches__ of data. We feed in thes __batches__ of the data for training batch by batch.\n",
    "\n",
    "Let's go ahead and see how we do that!"
   ]
  },
  {
   "cell_type": "code",
   "execution_count": 10,
   "metadata": {},
   "outputs": [
    {
     "data": {
      "text/plain": [
       "array([-0.22617747,  0.84655929])"
      ]
     },
     "execution_count": 10,
     "metadata": {},
     "output_type": "execute_result"
    }
   ],
   "source": [
    "np.random.randn(2)"
   ]
  },
  {
   "cell_type": "code",
   "execution_count": 11,
   "metadata": {},
   "outputs": [],
   "source": [
    "batch_size = 8\n",
    "\n",
    "# randomly initilize the weights (slope) and biases(intercept)\n",
    "\n",
    "m = tf.Variable(0.95)\n",
    "b = tf.Variable(1.10)"
   ]
  },
  {
   "cell_type": "code",
   "execution_count": 12,
   "metadata": {},
   "outputs": [],
   "source": [
    "# Creating Placeholders\n",
    "\n",
    "x_placeholder = tf.placeholder(tf.float32, [batch_size])\n",
    "y_placeholder = tf.placeholder(tf.float32, [batch_size])"
   ]
  },
  {
   "cell_type": "code",
   "execution_count": 13,
   "metadata": {},
   "outputs": [],
   "source": [
    "# Defining Graphs (Actual Operations)\n",
    "\n",
    "y_model = (m * x_placeholder) + b"
   ]
  },
  {
   "cell_type": "code",
   "execution_count": 14,
   "metadata": {},
   "outputs": [],
   "source": [
    "# Defining Error (Cost Function)\n",
    "\n",
    "error = tf.reduce_sum(tf.square(y_placeholder - y_model))"
   ]
  },
  {
   "cell_type": "code",
   "execution_count": 17,
   "metadata": {},
   "outputs": [],
   "source": [
    "# Defining the Gradient Descent optimizer\n",
    "\n",
    "optimizer = tf.compat.v1.train.GradientDescentOptimizer(learning_rate = 0.001)\n",
    "train = optimizer.minimize(error)"
   ]
  },
  {
   "cell_type": "code",
   "execution_count": 18,
   "metadata": {},
   "outputs": [],
   "source": [
    "# Initializing the Variables globally\n",
    "\n",
    "init = tf.global_variables_initializer()"
   ]
  },
  {
   "cell_type": "code",
   "execution_count": 43,
   "metadata": {},
   "outputs": [],
   "source": [
    "# Running the Session\n",
    "\n",
    "with tf.Session() as sess:\n",
    "    \n",
    "    sess.run(init)\n",
    "    \n",
    "    batches = 1000 # No of batches we wanna go through\n",
    "    \n",
    "    for i in range(batches):\n",
    "        \n",
    "        rand_ind = np.random.randint(len(x_data), size = batch_size)\n",
    "        \n",
    "        feed = {x_placeholder: x_data[rand_ind], y_placeholder: y_true[rand_ind]}\n",
    "        \n",
    "        sess.run(train, feed_dict = feed)\n",
    "    \n",
    "    model_m, model_b = sess.run([m, b])\n",
    "    "
   ]
  },
  {
   "cell_type": "markdown",
   "metadata": {},
   "source": [
    "__Remember!__ we have set the actual slope as 0.5 in __'y_true' -> y_true = (0.5 * x_data) + 5 + noise__.\n",
    "And now when we are predicting the model_m i.e slope of our prediction, it should be closer to 0.5, and same for the baise, it should be closer to 5 for better accuracy.\n",
    "Let's see what's the predicted value of our slope!"
   ]
  },
  {
   "cell_type": "code",
   "execution_count": 44,
   "metadata": {},
   "outputs": [
    {
     "data": {
      "text/plain": [
       "0.5248361"
      ]
     },
     "execution_count": 44,
     "metadata": {},
     "output_type": "execute_result"
    }
   ],
   "source": [
    "model_m"
   ]
  },
  {
   "cell_type": "code",
   "execution_count": 45,
   "metadata": {},
   "outputs": [
    {
     "data": {
      "text/plain": [
       "4.945414"
      ]
     },
     "execution_count": 45,
     "metadata": {},
     "output_type": "execute_result"
    }
   ],
   "source": [
    "model_b"
   ]
  },
  {
   "cell_type": "code",
   "execution_count": 49,
   "metadata": {},
   "outputs": [
    {
     "data": {
      "text/plain": [
       "[<matplotlib.lines.Line2D at 0x7f5ce4b53f60>]"
      ]
     },
     "execution_count": 49,
     "metadata": {},
     "output_type": "execute_result"
    },
    {
     "data": {
      "image/png": "[encoded data removed]",
      "text/plain": [
       "<Figure size 432x288 with 1 Axes>"
      ]
     },
     "metadata": {
      "needs_background": "light"
     },
     "output_type": "display_data"
    }
   ],
   "source": [
    "# Plottig\n",
    "y_hat = x_data * model_m + model_b\n",
    "\n",
    "final_data.sample(n = 250).plot(kind = 'scatter', x = 'X Data', y = 'Y')\n",
    "plt.plot(x_data, y_hat, 'r')"
   ]
  },
  {
   "cell_type": "markdown",
   "metadata": {},
   "source": [
    "## Conclusion:\n",
    "\n",
    "Consequently, once you have your data, you can do the following steps:\n",
    "\n",
    "* Create the Variables\n",
    "* Create the Placeholders\n",
    "* Define the Operations in your Graph\n",
    "* Define some sort of Error or Lost function\n",
    "* Set up the Optimizer\n",
    "* Set up the Trainer\n",
    "* Initialize those global variables created earlier\n",
    "* And finally if you have a huge dataset, you also want to feed the data in batches, that are basically random batches from your large dataset. And a lot of times it's the hard part, that how to actually grab the data. It's sometimes challenging to work on a new dataset and feed the data in batches to the Model."
   ]
  },
  {
   "cell_type": "markdown",
   "metadata": {},
   "source": [
    "## Tensorflow Estimator:\n",
    "\n",
    "Let's now see how we can perform a __Regression__ task with the Tensorflow __estimator API__. There are lots of other higher level __API's__ such as __Keras__ and __Layers__ etc, we'll cover those later in Miscellaneous section. The __tf.estimator API__ has several model types to choose from. Let's go ahead and see the various options:\n",
    "\n",
    "Here are few of the __estimator__ types:\n",
    "* tf.estimator.LinearClassifier -> constructs a linear __Classification__ model\n",
    "* tf.estimator.LinearRegressor -> contructs a linear __Regression__ model\n",
    "* tf.estimator.DNNRegressor -> contructs a __Neural Network Regression__ model\n",
    "* tf.estimator.DNNClassifier -> contructs a __Neural Network Classification__ model\n",
    "\n",
    "In general, to use the __estimator API__ we do the following things:\n",
    "* Define a list of __feature columns__\n",
    "* Create the **estimator** model\n",
    "* Create a Data Input function\n",
    "* Call Train, Evaluate and Predict methods on the __estimator__ object\n",
    "\n",
    "So, LET'S GO AHEAD AND JUMP RIGHT IN.."
   ]
  },
  {
   "cell_type": "code",
   "execution_count": 50,
   "metadata": {},
   "outputs": [],
   "source": [
    "# Feature columns\n",
    "\n",
    "feat_cols = tf.feature_column.numeric_column"
   ]
  },
  {
   "cell_type": "code",
   "execution_count": null,
   "metadata": {},
   "outputs": [],
   "source": []
  }
 ],
 "metadata": {
  "kernelspec": {
   "display_name": "Python 3",
   "language": "python",
   "name": "python3"
  },
  "language_info": {
   "codemirror_mode": {
    "name": "ipython",
    "version": 3
   },
   "file_extension": ".py",
   "mimetype": "text/x-python",
   "name": "python",
   "nbconvert_exporter": "python",
   "pygments_lexer": "ipython3",
   "version": "3.7.3"
  }
 },
 "nbformat": 4,
 "nbformat_minor": 2
}
